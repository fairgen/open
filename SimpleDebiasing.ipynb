{
 "cells": [
  {
   "cell_type": "code",
   "execution_count": 13,
   "metadata": {},
   "outputs": [],
   "source": [
    "from sklearn.compose import make_column_selector as selector\n",
    "from sklearn.preprocessing import OneHotEncoder, StandardScaler\n",
    "from sklearn.compose import ColumnTransformer\n",
    "from sklearn.linear_model import LogisticRegression\n",
    "from sklearn.pipeline import make_pipeline\n",
    "from sklearn.model_selection import train_test_split\n",
    "from sklearn.metrics import accuracy_score\n",
    "\n",
    "import seaborn as sns\n",
    "import numpy as np\n",
    "import pandas as pd\n",
    "import matplotlib.pyplot as plt\n",
    "import warnings\n",
    "warnings.filterwarnings('ignore')"
   ]
  },
  {
   "cell_type": "markdown",
   "metadata": {},
   "source": [
    "## Load the data"
   ]
  },
  {
   "cell_type": "code",
   "execution_count": 2,
   "metadata": {},
   "outputs": [],
   "source": [
    "data = pd.read_csv('us_census.csv', sep=\",\")\n",
    "target = data['income']\n",
    "data = data.drop(columns=['income'])"
   ]
  },
  {
   "cell_type": "code",
   "execution_count": 15,
   "metadata": {},
   "outputs": [],
   "source": [
    "data_train, data_test, target_train, target_test = train_test_split(\n",
    "    data, target, random_state=42)"
   ]
  },
  {
   "cell_type": "code",
   "execution_count": 16,
   "metadata": {},
   "outputs": [
    {
     "data": {
      "text/plain": [
       "<=50K    0.761841\n",
       ">50K     0.238159\n",
       "Name: income, dtype: float64"
      ]
     },
     "execution_count": 16,
     "metadata": {},
     "output_type": "execute_result"
    }
   ],
   "source": [
    "target_train.value_counts(normalize=True)"
   ]
  },
  {
   "cell_type": "markdown",
   "metadata": {},
   "source": [
    "## Preprocessing pipeline"
   ]
  },
  {
   "cell_type": "code",
   "execution_count": 17,
   "metadata": {},
   "outputs": [],
   "source": [
    "numerical_columns = selector(dtype_exclude=object)(data)\n",
    "categorical_columns = selector(dtype_include=object)(data)"
   ]
  },
  {
   "cell_type": "code",
   "execution_count": 18,
   "metadata": {},
   "outputs": [],
   "source": [
    "categorical_preprocessor = OneHotEncoder(handle_unknown=\"ignore\")\n",
    "numerical_preprocessor = StandardScaler()"
   ]
  },
  {
   "cell_type": "code",
   "execution_count": 19,
   "metadata": {},
   "outputs": [],
   "source": [
    "preprocessor = ColumnTransformer([\n",
    "    ('one-hot-encoder', categorical_preprocessor, categorical_columns),\n",
    "    ('standard_scaler', numerical_preprocessor, numerical_columns)])"
   ]
  },
  {
   "cell_type": "markdown",
   "metadata": {},
   "source": [
    "## Create the fair model wrapper"
   ]
  },
  {
   "cell_type": "code",
   "execution_count": 32,
   "metadata": {},
   "outputs": [],
   "source": [
    "class fairModelWrapper:\n",
    "    \n",
    "    def __init__(self, model):\n",
    "        self.model = model\n",
    "\n",
    "    def fit(self, data, target, plot=True):\n",
    "        data_target = data.copy()\n",
    "        data_target['predictions'] = self.model.predict(data)\n",
    "        \n",
    "        income_proba = data_target['predictions'].value_counts(normalize=True)['<=50K']\n",
    "        \n",
    "        female_predicted_probas = self.model.predict_proba(data_target[data_target['sex']=='Female'])[:,1]\n",
    "        self.female_threshold = np.quantile(female_predicted_probas, income_proba)\n",
    "        \n",
    "        male_predicted_probas = self.model.predict_proba(data_target[data_target['sex']=='Male'])[:,1]\n",
    "        self.male_threshold = np.quantile(male_predicted_probas, income_proba)\n",
    "        \n",
    "        if plot:\n",
    "            df_probas_female = pd.DataFrame(female_predicted_probas, columns=['probas'])\n",
    "            df_probas_female['sex'] = 'female'\n",
    "\n",
    "            df_probas_male = pd.DataFrame(male_predicted_probas, columns=['probas'])\n",
    "            df_probas_male['sex'] = 'male'\n",
    "\n",
    "            df_probas = pd.concat((df_probas_female,df_probas_male), ignore_index=True)\n",
    "\n",
    "            sns.histplot(data=df_probas, x='probas', hue='sex', bins=20, kde=True, palette='viridis', stat='percent')\n",
    "            plt.axvline(self.female_threshold, 0,0.7, c='tab:blue')\n",
    "            plt.axvline(self.male_threshold, 0,0.7, c='mediumseagreen')\n",
    "            plt.xlabel('Predicted probability of having an income above 50K')\n",
    "            plt.annotate('Threshold for males to \\nbe predicted as high income',\n",
    "                    xy =(0.63, 10), color='tab:green'\n",
    "                )\n",
    "            plt.annotate('Threshold for females to \\nbe predicted as high income',\n",
    "                    xy =(0., 23), color='tab:blue'\n",
    "                )\n",
    "            plt.ylim(0,30)\n",
    "            plt.xlim(-0.05,1.3)\n",
    "            plt.savefig('images/threshold.png')\n",
    "        \n",
    "    \n",
    "    def predict(self, data_test):\n",
    "        data_target = data_test.copy()\n",
    "        data_target['predictions'] = self.model.predict(data_test)\n",
    "        \n",
    "        female_predicted_probas = self.model.predict_proba(data_target[data_target['sex']=='Female'])[:,1]\n",
    "        female_predictions_fair = np.where(female_predicted_probas>self.female_threshold, '>50K', '<=50K')\n",
    "        \n",
    "        male_predicted_probas = self.model.predict_proba(data_target[data_target['sex']=='Male'])[:,1]\n",
    "        male_predictions_fair = np.where(male_predicted_probas>self.male_threshold, '>50K', '<=50K')\n",
    "        \n",
    "        data_target.loc[data_target['sex']=='Female', 'predictions'] = female_predictions_fair        \n",
    "        data_target.loc[data_target['sex']=='Male', 'predictions'] = male_predictions_fair        \n",
    "        return np.array(data_target['predictions'])\n",
    "        \n",
    "        \n",
    "    def score(self, data, target):\n",
    "        predictions = self.predict(data)\n",
    "        return accuracy_score(predictions, target)\n"
   ]
  },
  {
   "cell_type": "markdown",
   "metadata": {},
   "source": [
    "## Fit the model and wrap it"
   ]
  },
  {
   "cell_type": "code",
   "execution_count": 33,
   "metadata": {},
   "outputs": [
    {
     "data": {
      "image/png": "[encoded data removed]",
      "text/plain": [
       "<Figure size 432x288 with 1 Axes>"
      ]
     },
     "metadata": {
      "needs_background": "light"
     },
     "output_type": "display_data"
    }
   ],
   "source": [
    "model = make_pipeline(preprocessor, LogisticRegression(max_iter=500))\n",
    "model.fit(data_train, target_train)\n",
    "fairmodel = fairModelWrapper(model)\n",
    "fairmodel.fit(data_train, target_train)"
   ]
  },
  {
   "cell_type": "markdown",
   "metadata": {},
   "source": [
    "## Evaluate fairness and accuracy of the models"
   ]
  },
  {
   "cell_type": "code",
   "execution_count": 22,
   "metadata": {},
   "outputs": [],
   "source": [
    "def compute_scores_and_plot_disparities(data_test, target_test, model):\n",
    "    predictions_test = model.predict(data_test)\n",
    "    \n",
    "    tmp = data_test.copy()\n",
    "    tmp['Model predictions'] = predictions_test\n",
    "    tmp['Data'] = target_test\n",
    "    \n",
    "    grouped_predictions = tmp.groupby('sex')['Model predictions'].value_counts(normalize=True)\n",
    "    dp_model = np.abs(grouped_predictions['Female']['>50K'] - grouped_predictions['Male']['>50K'])\n",
    "    \n",
    "    grouped_gt = tmp.groupby('sex')['Data'].value_counts(normalize=True)\n",
    "    dp_data = np.abs(grouped_gt['Female']['>50K'] - grouped_gt['Male']['>50K'])\n",
    "    \n",
    "    fig, ax = plt.subplots(figsize=(6, 2))\n",
    "    arguments = dict(data=tmp, x='Model predictions', hue='sex', kde=False, multiple=\"dodge\", stat=\"percent\", common_norm=False, discrete=True, shrink=.3, ax=ax, palette='viridis')\n",
    "    sns.histplot(**arguments)\n",
    "    ax.legend(handles=ax.legend_.legendHandles, labels=[t.get_text() for t in ax.legend_.texts],\n",
    "              title=ax.legend_.get_title().get_text(),\n",
    "              bbox_to_anchor=(1.05, 1), loc='upper left')\n",
    "    plt.show()\n",
    "    \n",
    "    \n",
    "    fig, ax = plt.subplots(figsize=(6, 2))\n",
    "    arguments = dict(data=tmp, x='Data', hue='sex', kde=False, multiple=\"dodge\", stat=\"percent\", common_norm=False, discrete=True, shrink=.3, ax=ax, palette='viridis')\n",
    "    p = sns.histplot(**arguments)\n",
    "    ax.legend(handles=ax.legend_.legendHandles, labels=[t.get_text() for t in ax.legend_.texts],\n",
    "              title=ax.legend_.get_title().get_text(),\n",
    "              bbox_to_anchor=(1.05, 1), loc='upper left')\n",
    "    plt.show()    \n",
    "    \n",
    "    print('\\n','dp_model=%s\\n'%dp_model, 'dp_data=%s\\n'%dp_data, 'accuracy=%s'%model.score(data_test, target_test))"
   ]
  },
  {
   "cell_type": "code",
   "execution_count": 23,
   "metadata": {},
   "outputs": [
    {
     "data": {
      "image/png": "[encoded data removed]",
      "text/plain": [
       "<Figure size 432x144 with 1 Axes>"
      ]
     },
     "metadata": {
      "needs_background": "light"
     },
     "output_type": "display_data"
    },
    {
     "data": {
      "image/png": "[encoded data removed]",
      "text/plain": [
       "<Figure size 432x144 with 1 Axes>"
      ]
     },
     "metadata": {
      "needs_background": "light"
     },
     "output_type": "display_data"
    },
    {
     "name": "stdout",
     "output_type": "stream",
     "text": [
      "\n",
      " dp_model=0.175768072280926\n",
      " dp_data=0.1920244613837473\n",
      " accuracy=0.8466956023257718\n"
     ]
    }
   ],
   "source": [
    "compute_scores_and_plot_disparities(data_test, target_test, model)"
   ]
  },
  {
   "cell_type": "code",
   "execution_count": 24,
   "metadata": {},
   "outputs": [
    {
     "data": {
      "image/png": "[encoded data removed]",
      "text/plain": [
       "<Figure size 432x144 with 1 Axes>"
      ]
     },
     "metadata": {
      "needs_background": "light"
     },
     "output_type": "display_data"
    },
    {
     "data": {
      "image/png": "[encoded data removed]",
      "text/plain": [
       "<Figure size 432x144 with 1 Axes>"
      ]
     },
     "metadata": {
      "needs_background": "light"
     },
     "output_type": "display_data"
    },
    {
     "name": "stdout",
     "output_type": "stream",
     "text": [
      "\n",
      " dp_model=0.0019138844306005598\n",
      " dp_data=0.1920244613837473\n",
      " accuracy=0.8263860453689297\n"
     ]
    }
   ],
   "source": [
    "compute_scores_and_plot_disparities(data_test, target_test, fairmodel)"
   ]
  },
  {
   "cell_type": "code",
   "execution_count": null,
   "metadata": {},
   "outputs": [],
   "source": []
  }
 ],
 "metadata": {
  "colab": {
   "collapsed_sections": [],
   "last_runtime": {
    "build_target": "//learning/deepmind/public/tools/ml_python:ml_notebook",
    "kind": "private"
   },
   "name": "OTT fairness: tutorial",
   "provenance": [
    {
     "file_id": "1PYCJcF0LS09dQVdwI73b2ZJbQesYv3zu",
     "timestamp": 1622585910089
    }
   ],
   "toc_visible": true
  },
  "kernelspec": {
   "display_name": "Python 3",
   "language": "python",
   "name": "python3"
  },
  "language_info": {
   "codemirror_mode": {
    "name": "ipython",
    "version": 3
   },
   "file_extension": ".py",
   "mimetype": "text/x-python",
   "name": "python",
   "nbconvert_exporter": "python",
   "pygments_lexer": "ipython3",
   "version": "3.8.5"
  }
 },
 "nbformat": 4,
 "nbformat_minor": 4
}
