{
 "cells": [
  {
   "cell_type": "markdown",
   "metadata": {},
   "source": [
    "# 1 - Data Loading "
   ]
  },
  {
   "cell_type": "code",
   "execution_count": 1,
   "metadata": {},
   "outputs": [],
   "source": [
    "import os, sys\n",
    "codebase_root = os.path.dirname(os.path.abspath(''))\n",
    "sys.path.append(codebase_root)"
   ]
  },
  {
   "cell_type": "code",
   "execution_count": 2,
   "metadata": {},
   "outputs": [],
   "source": [
    "# Python 3.9 with: pandas, matplotlib, seaborn, sklearn.\n",
    "import pandas as pd\n",
    "import numpy as np\n",
    "import tkinter\n",
    "import matplotlib.pyplot as plt\n",
    "%matplotlib inline\n",
    "import seaborn as sns\n",
    "from sklearn.model_selection import train_test_split, StratifiedKFold, cross_val_score\n",
    "from sklearn.metrics import accuracy_score\n",
    "from sklearn.linear_model import LogisticRegression\n",
    "from sklearn.compose import ColumnTransformer\n",
    "from sklearn.preprocessing import StandardScaler, OneHotEncoder\n",
    "from sklearn.pipeline import Pipeline\n",
    "from sklearn.cluster import KMeans\n",
    "from typing import List\n",
    "import xgboost"
   ]
  },
  {
   "cell_type": "code",
   "execution_count": 3,
   "metadata": {},
   "outputs": [],
   "source": [
    "path = os.path.join(codebase_root, 'benchmarking/dataset/csvs/us_census.csv')\n",
    "df = pd.read_csv(path, sep=\",\")\n",
    "removed_columns = ['id', 'fnlwgt', 'sequence_pos']\n",
    "for c in removed_columns:\n",
    "    if c in df.columns:\n",
    "        df = df.drop(c, axis=1)"
   ]
  },
  {
   "cell_type": "code",
   "execution_count": 4,
   "metadata": {},
   "outputs": [
    {
     "data": {
      "text/html": [
       "<div>\n",
       "<style scoped>\n",
       "    .dataframe tbody tr th:only-of-type {\n",
       "        vertical-align: middle;\n",
       "    }\n",
       "\n",
       "    .dataframe tbody tr th {\n",
       "        vertical-align: top;\n",
       "    }\n",
       "\n",
       "    .dataframe thead th {\n",
       "        text-align: right;\n",
       "    }\n",
       "</style>\n",
       "<table border=\"1\" class=\"dataframe\">\n",
       "  <thead>\n",
       "    <tr style=\"text-align: right;\">\n",
       "      <th></th>\n",
       "      <th>age</th>\n",
       "      <th>workclass</th>\n",
       "      <th>education</th>\n",
       "      <th>marital-status</th>\n",
       "      <th>occupation</th>\n",
       "      <th>relationship</th>\n",
       "      <th>race</th>\n",
       "      <th>sex</th>\n",
       "      <th>hours-per-week</th>\n",
       "      <th>native-country</th>\n",
       "      <th>capital</th>\n",
       "      <th>income</th>\n",
       "    </tr>\n",
       "  </thead>\n",
       "  <tbody>\n",
       "    <tr>\n",
       "      <th>0</th>\n",
       "      <td>39</td>\n",
       "      <td>State-gov</td>\n",
       "      <td>Bachelors</td>\n",
       "      <td>Never-married</td>\n",
       "      <td>Adm-clerical</td>\n",
       "      <td>Not-in-family</td>\n",
       "      <td>White</td>\n",
       "      <td>Male</td>\n",
       "      <td>40</td>\n",
       "      <td>United-States</td>\n",
       "      <td>2174</td>\n",
       "      <td>&lt;=50K</td>\n",
       "    </tr>\n",
       "    <tr>\n",
       "      <th>1</th>\n",
       "      <td>50</td>\n",
       "      <td>Self-emp-not-inc</td>\n",
       "      <td>Bachelors</td>\n",
       "      <td>Married-civ-spouse</td>\n",
       "      <td>Exec-managerial</td>\n",
       "      <td>Husband</td>\n",
       "      <td>White</td>\n",
       "      <td>Male</td>\n",
       "      <td>13</td>\n",
       "      <td>United-States</td>\n",
       "      <td>0</td>\n",
       "      <td>&lt;=50K</td>\n",
       "    </tr>\n",
       "    <tr>\n",
       "      <th>2</th>\n",
       "      <td>38</td>\n",
       "      <td>Private</td>\n",
       "      <td>HS-grad</td>\n",
       "      <td>Divorced</td>\n",
       "      <td>Handlers-cleaners</td>\n",
       "      <td>Not-in-family</td>\n",
       "      <td>White</td>\n",
       "      <td>Male</td>\n",
       "      <td>40</td>\n",
       "      <td>United-States</td>\n",
       "      <td>0</td>\n",
       "      <td>&lt;=50K</td>\n",
       "    </tr>\n",
       "  </tbody>\n",
       "</table>\n",
       "</div>"
      ],
      "text/plain": [
       "   age         workclass  education      marital-status         occupation  \\\n",
       "0   39         State-gov  Bachelors       Never-married       Adm-clerical   \n",
       "1   50  Self-emp-not-inc  Bachelors  Married-civ-spouse    Exec-managerial   \n",
       "2   38           Private    HS-grad            Divorced  Handlers-cleaners   \n",
       "\n",
       "    relationship   race   sex  hours-per-week native-country  capital income  \n",
       "0  Not-in-family  White  Male              40  United-States     2174  <=50K  \n",
       "1        Husband  White  Male              13  United-States        0  <=50K  \n",
       "2  Not-in-family  White  Male              40  United-States        0  <=50K  "
      ]
     },
     "execution_count": 4,
     "metadata": {},
     "output_type": "execute_result"
    }
   ],
   "source": [
    "df.head(3)"
   ]
  },
  {
   "cell_type": "code",
   "execution_count": 5,
   "metadata": {},
   "outputs": [
    {
     "name": "stdout",
     "output_type": "stream",
     "text": [
      "Number of data rows: 48842 \n",
      "Is there any missing values ? False\n"
     ]
    }
   ],
   "source": [
    "print(f'Number of data rows: {len(df)} \\nIs there any missing values ? {df.isnull().values.any()}')"
   ]
  },
  {
   "cell_type": "code",
   "execution_count": 6,
   "metadata": {},
   "outputs": [],
   "source": [
    "# Useful to get a complete data report\n",
    "# from pandas_profiling import ProfileReport\n",
    "# ProfileReport(df)"
   ]
  },
  {
   "cell_type": "markdown",
   "metadata": {},
   "source": [
    "# 2 - Data Bias"
   ]
  },
  {
   "cell_type": "code",
   "execution_count": 7,
   "metadata": {},
   "outputs": [],
   "source": [
    "target = 'income'\n",
    "sensitive = 'sex'\n",
    "male = 'Male'\n",
    "female = 'Female'\n",
    "target_high = '>50K'\n",
    "target_low ='<=50K' "
   ]
  },
  {
   "cell_type": "code",
   "execution_count": 8,
   "metadata": {},
   "outputs": [
    {
     "data": {
      "image/png": "[encoded data removed]",
      "text/plain": [
       "<Figure size 432x144 with 1 Axes>"
      ]
     },
     "metadata": {
      "needs_background": "light"
     },
     "output_type": "display_data"
    }
   ],
   "source": [
    "fig, ax = plt.subplots(figsize=(6, 2))\n",
    "arguments = dict(data=df, x=target, hue=sensitive, kde=False, multiple=\"dodge\", stat=\"percent\", common_norm=False, discrete=True, shrink=.3, ax=ax, palette='viridis')\n",
    "sns.histplot(**arguments)\n",
    "ax.legend(handles=ax.legend_.legendHandles, labels=[t.get_text() for t in ax.legend_.texts],\n",
    "          title=ax.legend_.get_title().get_text(),\n",
    "          bbox_to_anchor=(1.05, 1), loc='upper left')\n",
    "plt.show()"
   ]
  },
  {
   "cell_type": "code",
   "execution_count": 9,
   "metadata": {},
   "outputs": [
    {
     "data": {
      "text/plain": [
       "income  sex   \n",
       "<=50K   Male      22732\n",
       "        Female    14423\n",
       ">50K    Male       9918\n",
       "        Female     1769\n",
       "dtype: int64"
      ]
     },
     "execution_count": 9,
     "metadata": {},
     "output_type": "execute_result"
    }
   ],
   "source": [
    "df[[target, sensitive]].value_counts()"
   ]
  },
  {
   "cell_type": "code",
   "execution_count": 10,
   "metadata": {},
   "outputs": [],
   "source": [
    "def calculate_statistical_parity(dff, target, sensitive):\n",
    "    is_male = dff[sensitive] == male\n",
    "    is_female = dff[sensitive] == female\n",
    "    is_high = dff[target] == target_high\n",
    "    is_low = dff[target] == target_low\n",
    "\n",
    "    p_high_male = len(dff.loc[is_high & is_male]) / len(dff.loc[is_male])    \n",
    "    p_high_female = len(dff.loc[is_high & is_female]) / len(dff.loc[is_female])\n",
    "    spd =  abs(p_high_male - p_high_female)\n",
    "    dic = {'p_high_male': p_high_male, 'p_high_female': p_high_female, 'spd': spd}\n",
    "    results = {k: round(v, 2) for k, v in dic.items()}\n",
    "    return results\n",
    "\n",
    "# Can also do:\n",
    "# df_pred.groupby('sex')['income'].value_counts(normalize=True)['Male']['>50K'] - df_pred.groupby('sex')['income'].value_counts(normalize=True)['Female']['>50K']"
   ]
  },
  {
   "cell_type": "code",
   "execution_count": 11,
   "metadata": {},
   "outputs": [
    {
     "data": {
      "text/plain": [
       "{'p_high_male': 0.3, 'p_high_female': 0.11, 'spd': 0.19}"
      ]
     },
     "execution_count": 11,
     "metadata": {},
     "output_type": "execute_result"
    }
   ],
   "source": [
    "calculate_statistical_parity(df, target, sensitive)"
   ]
  },
  {
   "cell_type": "markdown",
   "metadata": {},
   "source": [
    "In the data, one can see the probability of having a high income as a male is 30% while it is 11% as a woman. \n",
    "<br />\n",
    "The Statistical Disparity is 19%. Any percentage above 5% is considered high. \n",
    "<br />**We can confirm the data is biased against women.**"
   ]
  },
  {
   "cell_type": "markdown",
   "metadata": {},
   "source": [
    "# 3 - Model Bias"
   ]
  },
  {
   "cell_type": "code",
   "execution_count": 12,
   "metadata": {},
   "outputs": [],
   "source": [
    "def train_test_model(excluded_columns: List[str], target: str, calculate_disparity:bool = True):\n",
    "    numeric_features = [c for c in [\"age\", \"hours-per-week\", \"capital\"] if c not in excluded_columns]\n",
    "    categorical_features = [c for c in df.columns if c not in numeric_features + excluded_columns]\n",
    "    assert len(numeric_features) + len(categorical_features) == len(df.columns) - len(excluded_columns)\n",
    "\n",
    "    numeric_transformer = StandardScaler()\n",
    "    categorical_transformer = OneHotEncoder()\n",
    "    preprocessor = ColumnTransformer(\n",
    "        transformers=[\n",
    "            (\"num\", numeric_transformer, numeric_features),\n",
    "            (\"cat\", categorical_transformer, categorical_features)])\n",
    "\n",
    "    clf = Pipeline(\n",
    "        steps=[(\"preprocessor\", preprocessor), (\"classifier\", LogisticRegression(max_iter=1000))]\n",
    "    )\n",
    "\n",
    "    x, y = df.drop(target, axis=1), df[target]\n",
    "    x_train, x_test, y_train, y_test = train_test_split(x, y, stratify=y, test_size=0.3, random_state=42)\n",
    "\n",
    "    clf.fit(x_train, y_train)\n",
    "    y_pred = clf.predict(x_test)\n",
    "    acc = accuracy_score(y_pred, y_test)\n",
    "\n",
    "    df_pred = x_test.copy()\n",
    "    df_pred[target] = y_pred\n",
    "    sd = calculate_statistical_parity(df_pred, target, sensitive)\n",
    "    \n",
    "    print('Checking: transformed array shape:', preprocessor.transform(x_train).shape)\n",
    "    print(f'accuracy {round(acc * 100)}%')\n",
    "    if calculate_disparity:\n",
    "        print('statistical disparity:', sd)\n",
    "        print('\\n', df_pred[[target, sensitive]].value_counts())\n"
   ]
  },
  {
   "cell_type": "code",
   "execution_count": 13,
   "metadata": {},
   "outputs": [
    {
     "name": "stdout",
     "output_type": "stream",
     "text": [
      "Checking: transformed array shape: (34189, 103)\n",
      "accuracy 85%\n",
      "statistical disparity: {'p_high_male': 0.25, 'p_high_female': 0.07, 'spd': 0.18}\n",
      "\n",
      " income  sex   \n",
      "<=50K   Male      7257\n",
      "        Female    4562\n",
      ">50K    Male      2479\n",
      "        Female     355\n",
      "dtype: int64\n"
     ]
    }
   ],
   "source": [
    "train_test_model(excluded_columns=[target], target=target)"
   ]
  },
  {
   "cell_type": "markdown",
   "metadata": {},
   "source": [
    "In the model's prediction, one can see the probability of a man being predicted as high income is 25% while it is 7% for women. The statistical disparity is 18%. <br /> \n",
    "This shows how the model is biased against women and therefore simply **reflecting the bias present in the data**."
   ]
  },
  {
   "cell_type": "markdown",
   "metadata": {},
   "source": [
    "# 4 - Fairness Through Unawareness: removing the column"
   ]
  },
  {
   "cell_type": "markdown",
   "metadata": {},
   "source": [
    "### Model bias without the column"
   ]
  },
  {
   "cell_type": "code",
   "execution_count": 14,
   "metadata": {},
   "outputs": [
    {
     "name": "stdout",
     "output_type": "stream",
     "text": [
      "Checking: transformed array shape: (34189, 101)\n",
      "accuracy 85%\n",
      "statistical disparity: {'p_high_male': 0.25, 'p_high_female': 0.08, 'spd': 0.18}\n",
      "\n",
      " income  sex   \n",
      "<=50K   Male      7282\n",
      "        Female    4548\n",
      ">50K    Male      2454\n",
      "        Female     369\n",
      "dtype: int64\n"
     ]
    }
   ],
   "source": [
    "train_test_model(excluded_columns=[target, sensitive], target=target)"
   ]
  },
  {
   "cell_type": "markdown",
   "metadata": {},
   "source": [
    "We removed the sensitive 'sex' column and ran the same experiment as above.\n",
    "<br /> \n",
    "One can see the accuracy and the statistical disparity is still the same. \n",
    "<br /> This means removing the gender information has not hurt the prediction power of the model but **it also has not reduced the bias**. \n",
    "<br /> This is because the dataset still holds the gender information hidden inside other variables called **proxy variables**. \n",
    "<br /> This also prooves removing the sensitive column is near to **useless** to improve gender biases in model in production."
   ]
  },
  {
   "cell_type": "markdown",
   "metadata": {},
   "source": [
    "### Supervised guess on sensitive attribute"
   ]
  },
  {
   "cell_type": "code",
   "execution_count": 15,
   "metadata": {},
   "outputs": [
    {
     "name": "stdout",
     "output_type": "stream",
     "text": [
      "Checking: transformed array shape: (34189, 101)\n",
      "accuracy 84%\n"
     ]
    }
   ],
   "source": [
    "train_test_model(excluded_columns=[target, sensitive], target=sensitive, calculate_disparity=False)"
   ]
  },
  {
   "cell_type": "markdown",
   "metadata": {},
   "source": [
    "We are able to guess the gender of a data point with a very high accuracy and without the gender information itself. This prooves further how a data point has a **gender footprint** hidden inside its other features."
   ]
  },
  {
   "cell_type": "markdown",
   "metadata": {},
   "source": [
    "### Correlation matrix shows proxy variables"
   ]
  },
  {
   "cell_type": "code",
   "execution_count": 16,
   "metadata": {},
   "outputs": [],
   "source": [
    "from fairlens.metrics import unified\n",
    "correlation_matrix = unified.correlation_matrix(df).round(2)[[sensitive]]"
   ]
  },
  {
   "cell_type": "code",
   "execution_count": 17,
   "metadata": {},
   "outputs": [
    {
     "data": {
      "image/png": "[encoded data removed]",
      "text/plain": [
       "<Figure size 720x720 with 2 Axes>"
      ]
     },
     "metadata": {
      "needs_background": "light"
     },
     "output_type": "display_data"
    }
   ],
   "source": [
    "fig = plt.figure(figsize=(10, 10), tight_layout=True)\n",
    "ax=sns.heatmap(correlation_matrix,\n",
    "            vmin=0,\n",
    "            vmax=1,\n",
    "            annot=True,\n",
    "            annot_kws={\"size\": 15},\n",
    "            square=True,\n",
    "            cbar=True)\n",
    "\n",
    "ax.set_xticklabels(ax.get_xticklabels(), rotation=90, horizontalalignment=\"right\", fontdict={\"fontsize\": 20})\n",
    "_ = ax.set_yticklabels(ax.get_yticklabels(), rotation=0, horizontalalignment=\"right\", fontdict={\"fontsize\": 20})"
   ]
  },
  {
   "cell_type": "markdown",
   "metadata": {},
   "source": [
    "We might wonder what are the proxy variables. Checking for **correlations** between the sensitive attribute and the rest of the attributes answers this: **relationship**, **marital-status** and **occupation** are strong tells."
   ]
  },
  {
   "cell_type": "code",
   "execution_count": 18,
   "metadata": {},
   "outputs": [
    {
     "name": "stdout",
     "output_type": "stream",
     "text": [
      "Checking: transformed array shape: (34189, 28)\n",
      "accuracy 83%\n"
     ]
    }
   ],
   "source": [
    "excluded_columns = [c for c in df.columns if c not in ['relationship', 'marital-status', 'occupation']]\n",
    "train_test_model(excluded_columns=excluded_columns, target=sensitive, calculate_disparity=False)"
   ]
  },
  {
   "cell_type": "markdown",
   "metadata": {},
   "source": [
    "A confirmation of the above how we are able to get 83% accuracy in predicting someone's gender by using solely the relationship, marital-status and occupation variable."
   ]
  }
 ],
 "metadata": {
  "kernelspec": {
   "display_name": "Python 3 (ipykernel)",
   "language": "python",
   "name": "python3"
  },
  "language_info": {
   "codemirror_mode": {
    "name": "ipython",
    "version": 3
   },
   "file_extension": ".py",
   "mimetype": "text/x-python",
   "name": "python",
   "nbconvert_exporter": "python",
   "pygments_lexer": "ipython3",
   "version": "3.9.6"
  }
 },
 "nbformat": 4,
 "nbformat_minor": 4
}
